{
 "cells": [
  {
   "cell_type": "code",
   "execution_count": 4,
   "metadata": {},
   "outputs": [],
   "source": [
    "from tensorflow import keras\n",
    "import pandas as pd\n",
    "import numpy as np\n",
    "import matplotlib.pyplot as plt\n",
    "import os"
   ]
  },
  {
   "cell_type": "code",
   "execution_count": 8,
   "metadata": {},
   "outputs": [],
   "source": [
    "train_data = pd.read_csv(\"Kaggle_Dataset/PM_train.txt\", sep=\" \", header=None)\n",
    "test_data = pd.read_csv(\"Kaggle_Dataset/PM_test.txt\", sep=\" \", header=None)\n",
    "ground_truth = pd.read_csv(\"Kaggle_Dataset/PM_truth.txt\", sep=\" \", header=None)"
   ]
  }
 ],
 "metadata": {
  "kernelspec": {
   "display_name": "vy311",
   "language": "python",
   "name": "python3"
  },
  "language_info": {
   "codemirror_mode": {
    "name": "ipython",
    "version": 3
   },
   "file_extension": ".py",
   "mimetype": "text/x-python",
   "name": "python",
   "nbconvert_exporter": "python",
   "pygments_lexer": "ipython3",
   "version": "3.11.3"
  }
 },
 "nbformat": 4,
 "nbformat_minor": 2
}
